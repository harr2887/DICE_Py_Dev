{
 "cells": [
  {
   "cell_type": "markdown",
   "metadata": {},
   "source": [
    "# Editing Gams File Practice\n",
    "\n",
    "The below function 'alter_gams_file' takes a .gms file and alters a parameter \n",
    "value within the file when given a row # and the new value."
   ]
  },
  {
   "cell_type": "code",
   "execution_count": 2,
   "metadata": {},
   "outputs": [],
   "source": [
    "import fileinput\n",
    "import os\n",
    "import re"
   ]
  },
  {
   "cell_type": "code",
   "execution_count": null,
   "metadata": {},
   "outputs": [],
   "source": [
    "# Initialize file path of GAMS file \n",
    "gams_file_name = 'DICE_2016R2_copy.gms'\n",
    "data_dir = '../Data'\n",
    "gams_file_path = os.path.join(data_dir, gams_file_name)"
   ]
  },
  {
   "cell_type": "code",
   "execution_count": 9,
   "metadata": {},
   "outputs": [],
   "source": [
    "# Define function to alter param given file path, row # of interest, new value\n",
    "def alter_dice_param(file_path, target_row, new_param):\n",
    "    with fileinput.FileInput(file_path, inplace=True, backup='.bak') as file:\n",
    "        for i, line in enumerate(file, start=1):\n",
    "            if i == target_row:\n",
    "                # Use regular expression to find content between slashes\n",
    "                match = re.search(r'/(.*?)/', line)\n",
    "                if match:\n",
    "                    old_content_between_slashes = match.group(1)\n",
    "                    # Replace the content between slashes with new_param\n",
    "                    new_line = line.replace(old_content_between_slashes, new_param)\n",
    "                    print(new_line)\n",
    "                else:\n",
    "                    # If no content between slashes is found, print the original line\n",
    "                    print(line)\n",
    "            else:\n",
    "                print(line, end = '')"
   ]
  },
  {
   "cell_type": "code",
   "execution_count": null,
   "metadata": {},
   "outputs": [],
   "source": [
    "alter_row = 74  # Damage exponent row\n",
    "new_content = '4.00' # New value for param\n",
    "\n",
    "# Call alter param function\n",
    "alter_dice_param(gams_file_path, alter_row, new_content)"
   ]
  },
  {
   "cell_type": "markdown",
   "metadata": {},
   "source": [
    "## Future additions:\n",
    "\n",
    "Instead of using regex to alter param value between / ... / write a function \n",
    "that can alter functions by changing characters following =E="
   ]
  }
 ],
 "metadata": {
  "kernelspec": {
   "display_name": "gams",
   "language": "python",
   "name": "python3"
  },
  "language_info": {
   "codemirror_mode": {
    "name": "ipython",
    "version": 3
   },
   "file_extension": ".py",
   "mimetype": "text/x-python",
   "name": "python",
   "nbconvert_exporter": "python",
   "pygments_lexer": "ipython3",
   "version": "3.10.12"
  }
 },
 "nbformat": 4,
 "nbformat_minor": 2
}
